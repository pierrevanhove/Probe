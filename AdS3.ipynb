{
 "cells": [
  {
   "cell_type": "markdown",
   "id": "50f069db",
   "metadata": {},
   "source": [
    "<b>Analytical evaluation of Witten diagrams for AdS${}_4$/CFT${}_3$\n",
    "</b>\n",
    "<br>\n",
    "Till Heckelbacher,\n",
    "Ivo Sachs,\n",
    "Evgeny Skvortsov\n",
    "and Pierre Vanhove\n",
    "    <a href=\"http://arxiv.org/abs/2201.nnnn\">arXiv:2201.nnnn</a>"
   ]
  },
  {
   "cell_type": "markdown",
   "id": "66e7cf0d",
   "metadata": {},
   "source": [
    "The OPE coefficients for a generalized free field in $d=3$ dimensions with external conformal dimension $\\Delta$ are given by [https://arxiv.org/abs/arXiv:1112.4845]\n",
    "<br>\t\n",
    "<center>$\n",
    "\t    A_{n,l}(\\Delta)=\\frac{2^{1+l}(\\Delta-1/2)_n^2(\\Delta)_{n+l}^2}{l!n!(l+3/2)_n(2\\Delta+n-2)_n(2\\Delta+n+l-3/2)_n(2\\Delta+2n+l-1)_l}\n",
    "\t$</center>\n",
    "    <br>\n",
    "where  $(a)_n:=\\Gamma(a+n)/\\Gamma(a)$ is the Pochhammer symbol."
   ]
  },
  {
   "cell_type": "markdown",
   "id": "76dac383",
   "metadata": {},
   "source": [
    " The OPE coefficients at order $\\lambda$ are given by the formula [https://arxiv.org/abs/arXiv:0907.0151,https://arxiv.org/abs/arXiv:1112.4845]\n",
    "<br>\n",
    "<center>$\n",
    "A^{(1)}_{n,0}(\\Delta)=\\frac12\\frac{\\partial A_{n,0}(\\Delta)}{\\partial n}\n",
    "$</center>"
   ]
  },
  {
   "cell_type": "markdown",
   "id": "bd490b16",
   "metadata": {},
   "source": [
    "The file  <a href=\"A1.txt\">A1.txt</a> contains the OPE coefficients $A^{(1)}_{n,l}(2)$ for $\\Delta=2$ up to spin 200 used for deriving the correction to the anomalous dimensions"
   ]
  }
 ],
 "metadata": {
  "kernelspec": {
   "display_name": "Python 3",
   "language": "python",
   "name": "python3"
  },
  "language_info": {
   "codemirror_mode": {
    "name": "ipython",
    "version": 3
   },
   "file_extension": ".py",
   "mimetype": "text/x-python",
   "name": "python",
   "nbconvert_exporter": "python",
   "pygments_lexer": "ipython3",
   "version": "3.9.9"
  }
 },
 "nbformat": 4,
 "nbformat_minor": 5
}
