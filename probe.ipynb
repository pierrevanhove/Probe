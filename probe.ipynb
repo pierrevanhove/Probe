{
 "cells": [
  {
   "cell_type": "markdown",
   "id": "50f069db",
   "metadata": {},
   "source": [
    "<center><h1><b>Post-Minkowskian Radial Action from Soft Limits and Velocity Cuts</b></h1>\n",
    "<br>\n",
    "N.E.J. Bjerrum-Bohr, L. Plant&eacute;, and P. Vanhove\n",
    "    <a href=\"http://arxiv.org/abs/2111.02976\">arXiv:2111.02976</a></center>"
   ]
  },
  {
   "cell_type": "markdown",
   "id": "bd490b16",
   "metadata": {},
   "source": [
    "<center><b>The numerator factors and tree-level for scalar-gluon amplitudes listed in Appendix B of arXiv:2111.02976</b></center>"
   ]
  },
  {
   "cell_type": "markdown",
   "id": "608f9a4c",
   "metadata": {},
   "source": [
    "The notations are the following.<br>\n",
    "The massive scalars have momenta  $k_1$ and $k_2$. The gluon momenta are labeled with $\\ell_{a_i}$ $1\\leq i\\leq n$ and their polarisations $\\epsilon_L^i$. The label $L$ is for the left amplitude.\n",
    "Momentum conservation is $k_1+k_2+\\ell_{a_1}+\\cdots +\\ell_{a_n}=0$.   <br>\n",
    "<center>\n",
    "ek[L][a,k]$= \\epsilon_L^a\\cdot k$ <br>\n",
    "e[L][a,b] $= \\epsilon_L^a\\cdot\\epsilon_L^b$<br>\n",
    " s[a1,...,an]$=(\\ell_{a_1}+\\cdots+ \\ell_{a_n})^2$  with $\\ell_{a_i}^2=0$ <br>\n",
    "s[a2,...,an,k] $= (k+\\ell_{a_1}+\\cdots+\\ell_{a_n})^2-m^2$ with $k^2=m^2$<br>\n",
    "</center>"
   ]
  },
  {
   "cell_type": "markdown",
   "id": "7c6b01b1",
   "metadata": {},
   "source": [
    "The three-point case: <a href=\"3ptnumtree.m\">3ptnumtree.m</a>"
   ]
  },
  {
   "cell_type": "markdown",
   "id": "7fdfba86",
   "metadata": {},
   "source": [
    "The four-point case:  <a href=\"4ptnumtree.m\">4ptnumtree.m</a>"
   ]
  },
  {
   "cell_type": "markdown",
   "id": "26247181",
   "metadata": {},
   "source": [
    "The five-point case:  <a href=\"5ptnumtree.m\">5ptnumtree.m</a>"
   ]
  },
  {
   "cell_type": "markdown",
   "id": "a2f35b26",
   "metadata": {},
   "source": [
    "The six-point case:  <a href=\"6ptnumtree.m\">6ptnumtree.m</a>"
   ]
  },
  {
   "cell_type": "markdown",
   "id": "dd87e8c6",
   "metadata": {},
   "source": [
    "The seven-point case:  <a href=\"7ptnumtree.m\">7ptnumtree.m</a>"
   ]
  },
  {
   "cell_type": "markdown",
   "id": "121c4ad7",
   "metadata": {},
   "source": [
    "<center><b>The coefficients of the probe radial action $N_L$ up to six-loop order are given in this file:</b>  <a href=\"coefficient-probe-amplitude-D.txt\">coefficient-probe-amplitude-D.txt</a></center>\n",
    "\n",
    "The coefficient $ctableD[i]$ gives the coefficients at $(i-1)$-loop order starting with the tree-level coefficient up to the six-loop coefficient. The coefficient from tree-level to four-loop order are listed in eq.~(5.14) - (5.18) of [arXiv:2111.02976] "
   ]
  },
  {
   "cell_type": "code",
   "execution_count": null,
   "id": "39e85886",
   "metadata": {},
   "outputs": [],
   "source": []
  }
 ],
 "metadata": {
  "kernelspec": {
   "display_name": "Python 3",
   "language": "python",
   "name": "python3"
  },
  "language_info": {
   "codemirror_mode": {
    "name": "ipython",
    "version": 3
   },
   "file_extension": ".py",
   "mimetype": "text/x-python",
   "name": "python",
   "nbconvert_exporter": "python",
   "pygments_lexer": "ipython3",
   "version": "3.9.10"
  }
 },
 "nbformat": 4,
 "nbformat_minor": 5
}
