{
 "cells": [
  {
   "cell_type": "markdown",
   "id": "50f069db",
   "metadata": {},
   "source": [
    "<b>Post-Minkowskian Radial Action from Soft Limits and Velocity Cuts</b>\n",
    "<br>\n",
    "N.E.J. Bjerrum-Bohr, L. Plant&eacute;, and P. Vanhove\n",
    "    <a href=\"http://arxiv.org/abs/2111.02976\">arXiv:2111.02976</a>"
   ]
  },
  {
   "cell_type": "markdown",
   "id": "bd490b16",
   "metadata": {},
   "source": [
    "The numerator factors and tree-level for scalar-gluon amplitudes listed in Appendix B"
   ]
  },
  {
   "cell_type": "markdown",
   "id": "608f9a4c",
   "metadata": {},
   "source": [
    "The notations are the following.<br>\n",
    "The massive scalars have momenta  $k_1$ and $k_2$. The gluon momenta are labeled with $\\ell_{a_i}$ $1\\leq i\\leq n$ and their polarisations $\\epsilon_L^i$. The label $L$ is for the left amplitude.\n",
    "Momentum conservation is $k_1+k_2+\\ell_{a_1}+\\cdots +\\ell_{a_n}=0$.   <br>\n",
    "<center>\n",
    "ek[L][a,k]$= \\epsilon_L^a\\cdot k$ <br>\n",
    "e[L][a,b] $= \\epsilon_L^a.\\epsilon_L^b$<br>\n",
    " s[a_1,...,a_n]$=(\\ell_{a_1}+\\cdots+ \\ell_{a_n})^2$  with $\\ell_{a_i}^2=0$ <br>\n",
    "s[a2,...,a_n,k] $= (k+\\ell_{a_1}+\\cdots+\\ell_{a_n})^2-m^2$ with $k^2=m^2$<br>\n",
    "</center>"
   ]
  },
  {
   "cell_type": "markdown",
   "id": "7c6b01b1",
   "metadata": {},
   "source": [
    "The three-point case: <a href=\"3ptnumtree.m\">3ptnumtree.m</a>"
   ]
  },
  {
   "cell_type": "markdown",
   "id": "7fdfba86",
   "metadata": {},
   "source": [
    "The four-point case:  <a href=\"4ptnumtree.m\">4ptnumtree.m</a>"
   ]
  },
  {
   "cell_type": "markdown",
   "id": "26247181",
   "metadata": {},
   "source": [
    "The five-point case:  <a href=\"5ptnumtree.m\">5ptnumtree.m</a>"
   ]
  },
  {
   "cell_type": "markdown",
   "id": "a2f35b26",
   "metadata": {},
   "source": [
    "The six-point case:  <a href=\"6ptnumtree.m\">6ptnumtree.m</a>"
   ]
  },
  {
   "cell_type": "markdown",
   "id": "dd87e8c6",
   "metadata": {},
   "source": [
    "The seven-point case:  <a href=\"7ptnumtree.m\">7ptnumtree.m</a>"
   ]
  }
 ],
 "metadata": {
  "kernelspec": {
   "display_name": "Python 3",
   "language": "python",
   "name": "python3"
  },
  "language_info": {
   "codemirror_mode": {
    "name": "ipython",
    "version": 3
   },
   "file_extension": ".py",
   "mimetype": "text/x-python",
   "name": "python",
   "nbconvert_exporter": "python",
   "pygments_lexer": "ipython3",
   "version": "3.9.7"
  }
 },
 "nbformat": 4,
 "nbformat_minor": 5
}
